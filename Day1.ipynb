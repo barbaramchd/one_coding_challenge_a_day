{
  "nbformat": 4,
  "nbformat_minor": 0,
  "metadata": {
    "colab": {
      "name": "Day1.ipynb",
      "provenance": []
    },
    "kernelspec": {
      "name": "python3",
      "display_name": "Python 3"
    }
  },
  "cells": [
    {
      "cell_type": "markdown",
      "metadata": {
        "id": "QddF3VIrO7nB",
        "colab_type": "text"
      },
      "source": [
        "## CodingBat"
      ]
    },
    {
      "cell_type": "code",
      "metadata": {
        "id": "v84fHB7MPCu8",
        "colab_type": "code",
        "colab": {}
      },
      "source": [
        "# First problem\n",
        "#The parameter weekday is True if it is a weekday, and the parameter vacation is True if we are on vacation. We sleep in if it is not a weekday or we're on vacation. Return True if we sleep in.\n",
        "#sleep_in(False, False) → True\n",
        "#sleep_in(True, False) → False\n",
        "#sleep_in(False, True) → True"
      ],
      "execution_count": 0,
      "outputs": []
    },
    {
      "cell_type": "code",
      "metadata": {
        "id": "MRY5iv9yPMtn",
        "colab_type": "code",
        "colab": {}
      },
      "source": [
        "def sleep_in(weekday, vacation):\n",
        "  if weekday == False or vacation == True:\n",
        "    return True\n",
        "  else :\n",
        "    return False"
      ],
      "execution_count": 0,
      "outputs": []
    },
    {
      "cell_type": "code",
      "metadata": {
        "id": "7AlkFA8YPkWu",
        "colab_type": "code",
        "colab": {}
      },
      "source": [
        "#simplified version\n",
        "\n",
        "def sleep_in(weekday, vacation):\n",
        "  if not weekday or vacation:\n",
        "    return True\n",
        "  else:\n",
        "    return False"
      ],
      "execution_count": 0,
      "outputs": []
    },
    {
      "cell_type": "code",
      "metadata": {
        "id": "yjSeb-9mQMKv",
        "colab_type": "code",
        "colab": {}
      },
      "source": [
        "# Second problem\n",
        "#Given an int n, return the absolute difference between n and 21, except return double the absolute difference if n is over 21.\n",
        "#diff21(19) → 2\n",
        "#diff21(10) → 11\n",
        "#diff21(21) → 0"
      ],
      "execution_count": 0,
      "outputs": []
    },
    {
      "cell_type": "code",
      "metadata": {
        "id": "pVkS8Ts1RCmt",
        "colab_type": "code",
        "colab": {}
      },
      "source": [
        "def diff21(n):\n",
        "  if n <=21:\n",
        "    return abs(n-21)\n",
        "  else:\n",
        "    return 2*(abs(n-21))"
      ],
      "execution_count": 0,
      "outputs": []
    },
    {
      "cell_type": "code",
      "metadata": {
        "id": "O7t7BXHwRMI1",
        "colab_type": "code",
        "colab": {}
      },
      "source": [
        "#Third problem\n",
        "#Given an int n, return True if it is within 10 of 100 or 200. Note: abs(num) computes the absolute value of a number.\n",
        "#near_hundred(93) → True\n",
        "#near_hundred(90) → True\n",
        "#near_hundred(89) → False"
      ],
      "execution_count": 0,
      "outputs": []
    },
    {
      "cell_type": "code",
      "metadata": {
        "id": "qs61WD52ST_l",
        "colab_type": "code",
        "colab": {}
      },
      "source": [
        "def near_hundred(n):\n",
        "  if abs(100-n)<=10 or abs(200-n)<=10:\n",
        "    return True\n",
        "  else:\n",
        "    return False"
      ],
      "execution_count": 0,
      "outputs": []
    },
    {
      "cell_type": "code",
      "metadata": {
        "id": "TsfIVYvuSrXZ",
        "colab_type": "code",
        "colab": {}
      },
      "source": [
        "#Fourth question\n",
        "#We have two monkeys, a and b, and the parameters a_smile and b_smile indicate if each is smiling. We are in trouble if they are both smiling or if neither of them is smiling. Return True if we are in trouble.\n",
        "#monkey_trouble(True, True) → True\n",
        "#monkey_trouble(False, False) → True\n",
        "#monkey_trouble(True, False) → False"
      ],
      "execution_count": 0,
      "outputs": []
    },
    {
      "cell_type": "code",
      "metadata": {
        "id": "34LBqW4CSyUi",
        "colab_type": "code",
        "colab": {}
      },
      "source": [
        "def monkey_trouble(a_smile, b_smile):\n",
        "  if a_smile == True and b_smile == True or a_smile == False and b_smile == False:\n",
        "    return True\n",
        "  else:\n",
        "    return False"
      ],
      "execution_count": 0,
      "outputs": []
    }
  ]
}